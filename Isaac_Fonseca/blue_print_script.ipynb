{
 "cells": [
  {
   "cell_type": "markdown",
   "id": "0ef86e08-c41f-4353-8689-b43b8910b204",
   "metadata": {},
   "source": [
    "### Blue_print_project_2"
   ]
  },
  {
   "cell_type": "markdown",
   "id": "99fa3941-aa39-4759-9cbd-da3cec9748d2",
   "metadata": {},
   "source": [
    "### Path to Read Files "
   ]
  },
  {
   "cell_type": "code",
   "execution_count": null,
   "id": "cd06c847-e943-4b9b-b50e-414cfd7bc430",
   "metadata": {},
   "outputs": [],
   "source": [
    "# Store filepath in a variable\n",
    "file_one = \"../Resources/DataOne.csv\""
   ]
  },
  {
   "cell_type": "code",
   "execution_count": null,
   "id": "cce49bda-6d9b-41b9-b732-04ad4cd8e9a3",
   "metadata": {},
   "outputs": [],
   "source": [
    "# Read our data file with the Pandas library\n",
    "# Not every CSV requires an encoding, but be aware this can come up\n",
    "file_one_df = pd.read_csv(file_one, encoding=\"ISO-8859-1\")"
   ]
  },
  {
   "cell_type": "code",
   "execution_count": null,
   "id": "46db6d79-4e74-4ed4-a4fa-4c302de933dc",
   "metadata": {},
   "outputs": [],
   "source": [
    "# Import data example\n",
    "data_1_path = Path('Resources/data_1.csv')\n",
    "data_2_path = Path('Resources/data_2.csv')\n",
    "data_3_path = Path('Resources/data_3.csv')\n",
    "\n",
    "# Read in data and index by date\n",
    "data_1 = pd.read_csv(data_1_path, index_col='Date')\n",
    "data_2 = pd.read_csv(data_2_path, index_col='Date')\n",
    "data_3 = pd.read_csv(data_3_path, index_col='Date')"
   ]
  },
  {
   "cell_type": "markdown",
   "id": "bc7e77c7-9424-491f-8c83-a2ae2c5b0a16",
   "metadata": {},
   "source": [
    "### Index Selection Using iloc"
   ]
  },
  {
   "cell_type": "code",
   "execution_count": null,
   "id": "dc7c4e3a-df86-40fe-925b-f1c772875219",
   "metadata": {},
   "outputs": [],
   "source": [
    "# Select the first row of the DataFrame\n",
    "people_csv.iloc[0]\n",
    "\n",
    "# Select the second row of the DataFrame\n",
    "people_csv.iloc[1] "
   ]
  },
  {
   "cell_type": "markdown",
   "id": "d400c8ba-30cf-49f5-8d54-99c680d7b026",
   "metadata": {},
   "source": [
    "### Concatenate data by rows using concat function and inner join"
   ]
  },
  {
   "cell_type": "code",
   "execution_count": null,
   "id": "0ba86bdf-9f55-432f-89e4-81ef92685e43",
   "metadata": {},
   "outputs": [],
   "source": [
    "# Join by rows axis\n",
    "joined_data_rows = pd.concat([col_1, col_2, col_3], axis=\"rows\", join=\"inner\")\n"
   ]
  },
  {
   "cell_type": "markdown",
   "id": "67a0bf5b-356b-435a-9a98-3286fb1cdfcb",
   "metadata": {},
   "source": [
    "### Join two or more data_df. "
   ]
  },
  {
   "cell_type": "code",
   "execution_count": null,
   "id": "1b020642-1558-4b42-8ee6-08a099e8b6ed",
   "metadata": {},
   "outputs": [],
   "source": [
    "# Join the data 2018 and data 2019,  where the left suffix is data 2019 and right suffix is data 2018. \n",
    "data_2018_19 = data_2019_df.join(data_2018_df, lsuffix='_2019', rsuffix='_2018')\n",
    "data_2018_19"
   ]
  },
  {
   "cell_type": "markdown",
   "id": "e2440044-4997-4411-b166-e837c8726d90",
   "metadata": {},
   "source": [
    "### Merge two DataFrames"
   ]
  },
  {
   "cell_type": "code",
   "execution_count": null,
   "id": "3ce590be-3fea-4a5f-b03d-e71d96c226b8",
   "metadata": {},
   "outputs": [],
   "source": [
    "# Merge two DataFrames. An inner join is used by default.\n",
    "merge_df = pd.merge(info_df, items_df, on=\"customer_id\")\n",
    "merge_df"
   ]
  },
  {
   "cell_type": "markdown",
   "id": "dd18a90f-f68b-425b-abe6-33d2d6846f68",
   "metadata": {},
   "source": [
    "### Examples of Using GroupBy "
   ]
  },
  {
   "cell_type": "code",
   "execution_count": null,
   "id": "087e21e2-fa84-4b56-998e-2e793cfceae0",
   "metadata": {},
   "outputs": [],
   "source": [
    "# Using GroupBy in order to separate the data into fields according to \"state\" values\n",
    "grouped_usa_df = usa_ufo_df.groupby(['state'])\n",
    "\n",
    "# The object returned is a \"GroupBy\" object and cannot be viewed normally...\n",
    "print(grouped_usa_df)\n",
    "\n",
    "# In order to be visualized, a data function must be used...\n",
    "grouped_usa_df.count().head(10)"
   ]
  },
  {
   "cell_type": "code",
   "execution_count": null,
   "id": "bd08b258-08af-416f-a8f1-01fe5156bf69",
   "metadata": {},
   "outputs": [],
   "source": [
    "# 1. Show the average time for delayed arrivals (ArrDelay) for each carrier. Multy Index agg function.\n",
    "grouped_arrival_delay = delayed_flights_df.groupby(\"UniqueCarrier\").agg({'ArrDelay':'mean'})\n",
    "grouped_arrival_delay"
   ]
  },
  {
   "cell_type": "code",
   "execution_count": null,
   "id": "3faf6659-fcb3-4bf1-87d1-a8d87ca175a1",
   "metadata": {},
   "outputs": [],
   "source": [
    "# Use the custom function you created to calculate the average for a DataFrame column and\n",
    "# show the average time for delayed arrivals and departures for each carrier.\n",
    "grouped_arrival_dept_delay = delayed_flights_df.groupby(\"UniqueCarrier\").\\\n",
    "            apply(lambda x: pd.Series({\"Avg_ArrDelay\": custom_avg(x[\"ArrDelay\"]),\n",
    "                                       \"Avg_DepDelay\": custom_avg(x[\"DepDelay\"])}))\n"
   ]
  }
 ],
 "metadata": {
  "kernelspec": {
   "display_name": "Python 3 (ipykernel)",
   "language": "python",
   "name": "python3"
  },
  "language_info": {
   "codemirror_mode": {
    "name": "ipython",
    "version": 3
   },
   "file_extension": ".py",
   "mimetype": "text/x-python",
   "name": "python",
   "nbconvert_exporter": "python",
   "pygments_lexer": "ipython3",
   "version": "3.12.4"
  }
 },
 "nbformat": 4,
 "nbformat_minor": 5
}
